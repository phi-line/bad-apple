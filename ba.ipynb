{
 "cells": [
  {
   "cell_type": "code",
   "execution_count": 71,
   "metadata": {},
   "outputs": [],
   "source": [
    "import cv2\n",
    "import numpy as np\n",
    "from IPython.display import clear_output"
   ]
  },
  {
   "cell_type": "code",
   "execution_count": 223,
   "metadata": {},
   "outputs": [],
   "source": [
    "def rlencode(x, dropna=False):\n",
    "    \"\"\"\n",
    "    Run length encoding.\n",
    "    Based on http://stackoverflow.com/a/32681075, which is based on the rle \n",
    "    function from R.\n",
    "    \n",
    "    Parameters\n",
    "    ----------\n",
    "    x : 1D array_like\n",
    "        Input array to encode\n",
    "    dropna: bool, optional\n",
    "        Drop all runs of NaNs.\n",
    "    \n",
    "    Returns\n",
    "    -------\n",
    "    start positions, run lengths, run values\n",
    "    \n",
    "    \"\"\"\n",
    "    where = np.flatnonzero\n",
    "    x = np.asarray(x)\n",
    "    n = len(x)\n",
    "    if n == 0:\n",
    "        return (np.array([], dtype=int), \n",
    "                np.array([], dtype=int), \n",
    "                np.array([], dtype=x.dtype))\n",
    "\n",
    "    starts = np.r_[0, where(~np.isclose(x[1:], x[:-1], equal_nan=True)) + 1]\n",
    "    lengths = np.diff(np.r_[starts, n])\n",
    "    values = x[starts]\n",
    "    \n",
    "    if dropna:\n",
    "        mask = ~np.isnan(values)\n",
    "        starts, lengths, values = starts[mask], lengths[mask], values[mask]\n",
    "    \n",
    "    return np.array((starts, lengths, values))"
   ]
  },
  {
   "cell_type": "code",
   "execution_count": 219,
   "metadata": {
    "id": "ONTdwf1IZoWv"
   },
   "outputs": [
    {
     "name": "stdout",
     "output_type": "stream",
     "text": [
      "done! raw       : 107,675.648 kB\n",
      "done! flat      : 107,675.648 kB\n",
      "done! rle frame : 38,259.988 kB\n"
     ]
    }
   ],
   "source": [
    "import sys\n",
    "from collections import defaultdict\n",
    "from IPython.display import display, clear_output\n",
    "\n",
    "out_resolution = (128, 128)\n",
    "(out_cols, out_rows) = out_resolution\n",
    "np.set_printoptions(edgeitems=out_cols*out_rows)\n",
    "np.set_printoptions(linewidth=out_cols+out_rows+2)\n",
    "\n",
    "file_name = 'bad_apple.mp4'\n",
    "cap = cv2.VideoCapture(file_name)\n",
    "height = int(cap.get(cv2.CAP_PROP_FRAME_HEIGHT))\n",
    "width = int(cap.get(cv2.CAP_PROP_FRAME_WIDTH))\n",
    "\n",
    "fourcc = cv2.VideoWriter_fourcc(*'MJPG')\n",
    "out = cv2.VideoWriter(f'./out_{file_name}.avi', fourcc, 30, out_resolution, False)\n",
    "\n",
    "nbytes = defaultdict(int)\n",
    "iframe = 0\n",
    "\n",
    "time_rle_buffer = np.ndarray(shape=out_resolution, dtype=bool)\n",
    "while(cap.isOpened()):\n",
    "    ret, frame = cap.read()\n",
    "    if ret is True:\n",
    "        frame = cv2.cvtColor(frame, cv2.COLOR_BGR2GRAY)\n",
    "        res_diff = int((width-height)/2)\n",
    "        frame = frame[0:height, res_diff:width-res_diff]\n",
    "        frame = cv2.resize(frame, out_resolution, fx=0, fy=0, interpolation=cv2.INTER_NEAREST)\n",
    "        th, frame = cv2.threshold(frame, 0, 255, cv2.THRESH_OTSU)\n",
    "        out.write(frame)\n",
    "        \n",
    "        nbytes['raw'] += frame.nbytes\n",
    "        \n",
    "        bool_frame = np.array(frame, dtype=bool)\n",
    "        OD_frame = bool_frame.flatten()\n",
    "        nbytes['1D frames'] += OD_frame.nbytes\n",
    "        \n",
    "        rle_starts, rle_lengths, rle_values = rlencode(OD_frame)\n",
    "        nbytes['RLE 1D frames'] += rle_starts.nbytes +rle_lengths.nbytes + rle_values.nbytes\n",
    "        \n",
    "        time_rle_buffer = np.dstack((time_rle_buffer, bool_frame))\n",
    "        \n",
    "#         if iframe == 256:\n",
    "#             clear_output(wait=True)\n",
    "#             print(np.array2string(np.digitize(frame.flatten(), np.array([1])), separator=' ', prefix='', suffix=''))\n",
    "        iframe += 1\n",
    "    else:\n",
    "        out.release()\n",
    "        cap.release()\n",
    "\n",
    "print(\"done!\")\n",
    "print(f\"raw       : {nbytes['raw'] / 1000:,} kB\")\n",
    "print(f\"flat      : {nbytes['1D frames'] / 1000:,} kB\")\n",
    "print(f\"rle frame : {nbytes['RLE 1D frames'] / 1000:,} kB\")"
   ]
  },
  {
   "cell_type": "code",
   "execution_count": 224,
   "metadata": {},
   "outputs": [
    {
     "name": "stdout",
     "output_type": "stream",
     "text": [
      "128 128 6573\n"
     ]
    },
    {
     "ename": "ValueError",
     "evalue": "could not broadcast input array from shape (3,67) into shape (3,65)",
     "output_type": "error",
     "traceback": [
      "\u001b[0;31m---------------------------------------------------------------------------\u001b[0m",
      "\u001b[0;31mValueError\u001b[0m                                Traceback (most recent call last)",
      "\u001b[0;32m<ipython-input-224-b5826be11d1c>\u001b[0m in \u001b[0;36m<module>\u001b[0;34m\u001b[0m\n\u001b[1;32m      4\u001b[0m \u001b[0;34m\u001b[0m\u001b[0m\n\u001b[1;32m      5\u001b[0m \u001b[0ma\u001b[0m \u001b[0;34m=\u001b[0m \u001b[0ma\u001b[0m\u001b[0;34m.\u001b[0m\u001b[0mreshape\u001b[0m\u001b[0;34m(\u001b[0m\u001b[0mx\u001b[0m\u001b[0;34m*\u001b[0m\u001b[0my\u001b[0m\u001b[0;34m,\u001b[0m\u001b[0mz\u001b[0m\u001b[0;34m)\u001b[0m\u001b[0;34m\u001b[0m\u001b[0;34m\u001b[0m\u001b[0m\n\u001b[0;32m----> 6\u001b[0;31m \u001b[0ma\u001b[0m \u001b[0;34m=\u001b[0m \u001b[0mnp\u001b[0m\u001b[0;34m.\u001b[0m\u001b[0mapply_along_axis\u001b[0m\u001b[0;34m(\u001b[0m\u001b[0mrlencode\u001b[0m\u001b[0;34m,\u001b[0m \u001b[0;36m1\u001b[0m\u001b[0;34m,\u001b[0m \u001b[0ma\u001b[0m\u001b[0;34m)\u001b[0m\u001b[0;34m\u001b[0m\u001b[0;34m\u001b[0m\u001b[0m\n\u001b[0m\u001b[1;32m      7\u001b[0m \u001b[0ma\u001b[0m \u001b[0;34m=\u001b[0m \u001b[0ma\u001b[0m\u001b[0;34m.\u001b[0m\u001b[0mreshape\u001b[0m\u001b[0;34m(\u001b[0m\u001b[0mx\u001b[0m\u001b[0;34m,\u001b[0m\u001b[0my\u001b[0m\u001b[0;34m,\u001b[0m\u001b[0mz\u001b[0m\u001b[0;34m)\u001b[0m\u001b[0;34m\u001b[0m\u001b[0;34m\u001b[0m\u001b[0m\n",
      "\u001b[0;32m<__array_function__ internals>\u001b[0m in \u001b[0;36mapply_along_axis\u001b[0;34m(*args, **kwargs)\u001b[0m\n",
      "\u001b[0;32m/opt/miniconda3/lib/python3.8/site-packages/numpy/lib/shape_base.py\u001b[0m in \u001b[0;36mapply_along_axis\u001b[0;34m(func1d, axis, arr, *args, **kwargs)\u001b[0m\n\u001b[1;32m    400\u001b[0m     \u001b[0mbuff\u001b[0m\u001b[0;34m[\u001b[0m\u001b[0mind0\u001b[0m\u001b[0;34m]\u001b[0m \u001b[0;34m=\u001b[0m \u001b[0mres\u001b[0m\u001b[0;34m\u001b[0m\u001b[0;34m\u001b[0m\u001b[0m\n\u001b[1;32m    401\u001b[0m     \u001b[0;32mfor\u001b[0m \u001b[0mind\u001b[0m \u001b[0;32min\u001b[0m \u001b[0minds\u001b[0m\u001b[0;34m:\u001b[0m\u001b[0;34m\u001b[0m\u001b[0;34m\u001b[0m\u001b[0m\n\u001b[0;32m--> 402\u001b[0;31m         \u001b[0mbuff\u001b[0m\u001b[0;34m[\u001b[0m\u001b[0mind\u001b[0m\u001b[0;34m]\u001b[0m \u001b[0;34m=\u001b[0m \u001b[0masanyarray\u001b[0m\u001b[0;34m(\u001b[0m\u001b[0mfunc1d\u001b[0m\u001b[0;34m(\u001b[0m\u001b[0minarr_view\u001b[0m\u001b[0;34m[\u001b[0m\u001b[0mind\u001b[0m\u001b[0;34m]\u001b[0m\u001b[0;34m,\u001b[0m \u001b[0;34m*\u001b[0m\u001b[0margs\u001b[0m\u001b[0;34m,\u001b[0m \u001b[0;34m**\u001b[0m\u001b[0mkwargs\u001b[0m\u001b[0;34m)\u001b[0m\u001b[0;34m)\u001b[0m\u001b[0;34m\u001b[0m\u001b[0;34m\u001b[0m\u001b[0m\n\u001b[0m\u001b[1;32m    403\u001b[0m \u001b[0;34m\u001b[0m\u001b[0m\n\u001b[1;32m    404\u001b[0m     \u001b[0;32mif\u001b[0m \u001b[0;32mnot\u001b[0m \u001b[0misinstance\u001b[0m\u001b[0;34m(\u001b[0m\u001b[0mres\u001b[0m\u001b[0;34m,\u001b[0m \u001b[0mmatrix\u001b[0m\u001b[0;34m)\u001b[0m\u001b[0;34m:\u001b[0m\u001b[0;34m\u001b[0m\u001b[0;34m\u001b[0m\u001b[0m\n",
      "\u001b[0;31mValueError\u001b[0m: could not broadcast input array from shape (3,67) into shape (3,65)"
     ]
    }
   ],
   "source": [
    "a = np.copy(time_rle_buffer)\n",
    "x,y,z = a.shape[0], a.shape[1], a.shape[2]\n",
    "print(x, y, z)\n",
    "\n",
    "a = a.reshape(x*y,z)\n",
    "a = np.apply_along_axis(rlencode, 1, a)\n",
    "a = a.reshape(x,y,z)"
   ]
  },
  {
   "cell_type": "code",
   "execution_count": null,
   "metadata": {},
   "outputs": [],
   "source": []
  }
 ],
 "metadata": {
  "colab": {
   "collapsed_sections": [],
   "name": "Untitled1.ipynb",
   "provenance": [],
   "toc_visible": true
  },
  "kernelspec": {
   "display_name": "Python 3",
   "language": "python",
   "name": "python3"
  },
  "language_info": {
   "codemirror_mode": {
    "name": "ipython",
    "version": 3
   },
   "file_extension": ".py",
   "mimetype": "text/x-python",
   "name": "python",
   "nbconvert_exporter": "python",
   "pygments_lexer": "ipython3",
   "version": "3.8.5"
  }
 },
 "nbformat": 4,
 "nbformat_minor": 4
}
